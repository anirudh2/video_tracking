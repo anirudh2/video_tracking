{
 "cells": [
  {
   "cell_type": "code",
   "execution_count": 1,
   "metadata": {},
   "outputs": [],
   "source": [
    "# Let’s say you are trying to use a noisy, blurred, low resolution, heavily quantized video feed to estimate the x,y position of a ball.  The primary objective is to estimate the position of the ball as accurately as possible, and as quickly as possible!\n",
    "\n",
    "# Here is what we know:\n",
    "#     The field of view of the camera is dark (pixel intensity 0), except for a single ball with uniform brightness (pixel intensity 7) \n",
    "#     The ball is exactly 10 pixels in diameter, and has perfectly elastic collisions will the four “walls” bounding the square field of view of the camera\n",
    "#     There are no external forces acting on the ball (no gravity, no air resistance)\n",
    "#     The camera's CCD has 101x101 pixels, each with 3-bit intensity resolution [0,7] (greyscale)\n",
    "#     The camera’s CCD is noisy. Each pixel has noise ~unif(0,5).  This noise is uncorrelated from pixel to pixel, and frame to frame.\n",
    "#     The ball’s initial position is pixel [0,0] but its initial velocity vector is unknown. The maximum velocity is 7.5 pixels per frame.\n",
    "\n",
    "# Here are the deliverables:\n",
    "#     Python simulation of this system. Please comment your code thoroughly, as it will be reviewed in detail.  If you use any open source code, please include citations.\n",
    "#     A dozen slides containing:\n",
    "#         Block diagram depicting your simulation structure\n",
    "#         Why you chose the algorithms you did (what else did you consider?)\n",
    "#         Plot of estimation accuracy vs frame count (does it converge? Any residual “steady state” error in the long run? Does performance depend on initial condition?)\n",
    "#         Some analytical justification for the simulation results you are seeing (did simulation agree with analytical? If so, why? If not, why not?)\n",
    "#         Estimate of total processing resources required to run your system in real time (MAC operations/frame)\n",
    "#         What would you do differently in your approach if you had more time?\n",
    "#         What did you find most challenging about this project"
   ]
  },
  {
   "cell_type": "code",
   "execution_count": 16,
   "metadata": {},
   "outputs": [
    {
     "name": "stdout",
     "output_type": "stream",
     "text": [
      "Populating the interactive namespace from numpy and matplotlib\n"
     ]
    }
   ],
   "source": [
    "# Imports (Run once)\n",
    "%pylab inline\n",
    "import matplotlib.pyplot as plt\n",
    "import matplotlib.animation as animation\n",
    "import numpy as np"
   ]
  },
  {
   "cell_type": "code",
   "execution_count": 17,
   "metadata": {},
   "outputs": [],
   "source": [
    "# This function adds uniformly distributed noise to each frame and quantizes it\n",
    "def add_noise(x, lim_low=0.0, lim_high=5.0, bitdepth=3,rs=np.random.RandomState(seed=42)):\n",
    "    \n",
    "    b = rs.uniform(low=lim_low, high=lim_high, size=x.shape) + x # Add uniform noise\n",
    "    adu = b.astype(np.int) # Convert to discrete numbers\n",
    "    max_adu = np.int(2**bitdepth - 1)\n",
    "    adu[adu>max_adu] = max_adu # Models pixel saturation\n",
    "    "
   ]
  },
  {
   "cell_type": "code",
   "execution_count": null,
   "metadata": {},
   "outputs": [],
   "source": []
  },
  {
   "cell_type": "code",
   "execution_count": 12,
   "metadata": {},
   "outputs": [],
   "source": [
    "vel = [random.uniform(0.1,7.5) for i in range(2)] # generate a vector with a random x and y velocity\n",
    "pos = [0,0] # Initial Position of the ball is at (0,0)"
   ]
  }
 ],
 "metadata": {
  "kernelspec": {
   "display_name": "Python 3",
   "language": "python",
   "name": "python3"
  },
  "language_info": {
   "codemirror_mode": {
    "name": "ipython",
    "version": 3
   },
   "file_extension": ".py",
   "mimetype": "text/x-python",
   "name": "python",
   "nbconvert_exporter": "python",
   "pygments_lexer": "ipython3",
   "version": "3.5.2"
  }
 },
 "nbformat": 4,
 "nbformat_minor": 2
}
