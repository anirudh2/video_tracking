{
 "cells": [
  {
   "cell_type": "code",
   "execution_count": null,
   "metadata": {},
   "outputs": [],
   "source": [
    "# Let’s say you are trying to use a noisy, blurred, low resolution, heavily quantized video feed to estimate the x,y position of a ball.  The primary objective is to estimate the position of the ball as accurately as possible, and as quickly as possible!\n",
    "\n",
    "# Here is what we know:\n",
    "#     The field of view of the camera is dark (pixel intensity 0), except for a single ball with uniform brightness (pixel intensity 7) \n",
    "#     The ball is exactly 10 pixels in diameter, and has perfectly elastic collisions will the four “walls” bounding the square field of view of the camera\n",
    "#     There are no external forces acting on the ball (no gravity, no air resistance)\n",
    "#     The camera's CCD has 101x101 pixels, each with 3-bit intensity resolution [0,7] (greyscale)\n",
    "#     The camera’s CCD is noisy. Each pixel has noise ~unif(0,5).  This noise is uncorrelated from pixel to pixel, and frame to frame.\n",
    "#     The ball’s initial position is pixel [0,0] but its initial velocity vector is unknown. The maximum velocity is 7.5 pixels per frame.\n",
    "\n",
    "# Here are the deliverables:\n",
    "#     Python simulation of this system. Please comment your code thoroughly, as it will be reviewed in detail.  If you use any open source code, please include citations.\n",
    "#     A dozen slides containing:\n",
    "#         Block diagram depicting your simulation structure\n",
    "#         Why you chose the algorithms you did (what else did you consider?)\n",
    "#         Plot of estimation accuracy vs frame count (does it converge? Any residual “steady state” error in the long run? Does performance depend on initial condition?)\n",
    "#         Some analytical justification for the simulation results you are seeing (did simulation agree with analytical? If so, why? If not, why not?)\n",
    "#         Estimate of total processing resources required to run your system in real time (MAC operations/frame)\n",
    "#         What would you do differently in your approach if you had more time?\n",
    "#         What did you find most challenging about this project"
   ]
  },
  {
   "cell_type": "code",
   "execution_count": 1,
   "metadata": {},
   "outputs": [
    {
     "name": "stdout",
     "output_type": "stream",
     "text": [
      "Populating the interactive namespace from numpy and matplotlib\n"
     ]
    }
   ],
   "source": [
    "# Imports (Run once)\n",
    "%pylab inline\n",
    "import matplotlib.pyplot as plt\n",
    "import matplotlib.animation as animation\n",
    "import numpy as np\n",
    "import pdb # For debugging\n",
    "import cairo \n",
    "import math"
   ]
  },
  {
   "cell_type": "code",
   "execution_count": 30,
   "metadata": {},
   "outputs": [],
   "source": [
    "# This function adds uniformly distributed noise to each frame and quantizes it\n",
    "def add_noise(x, lim_low=0.0, lim_high=5.0, bitdepth=3,rs=np.random.RandomState(seed=42)):\n",
    "    \n",
    "    b = rs.uniform(low=lim_low, high=lim_high, size=x.shape) + x # Add uniform noise\n",
    "    print(b)\n",
    "    adu = b.astype(np.int) # Convert to discrete numbers\n",
    "    print(adu)\n",
    "    max_adu = np.int(2**bitdepth - 1)\n",
    "    adu[adu>max_adu] = max_adu # Models pixel saturation\n",
    "    print(adu)\n",
    "    \n",
    "    return adu"
   ]
  },
  {
   "cell_type": "code",
   "execution_count": 29,
   "metadata": {},
   "outputs": [],
   "source": [
    "num_pixels = 101\n",
    "vel = [random.uniform(0.1,7.5) for i in range(2)] # generate a vector with a random x and y velocity\n",
    "pos = [0,0] # initial position\n",
    "num_frames = 100\n",
    "z = np.linspace(0,num_frames, num=num_frames)"
   ]
  },
  {
   "cell_type": "code",
   "execution_count": 40,
   "metadata": {},
   "outputs": [
    {
     "name": "stdout",
     "output_type": "stream",
     "text": [
      "[[0.51764706 2.63529412 3.         ... 0.         0.         0.        ]\n",
      " [2.68235294 3.         3.         ... 0.         0.         0.        ]\n",
      " [3.         3.         3.         ... 0.         0.         0.        ]\n",
      " ...\n",
      " [0.         0.         0.         ... 0.         0.         0.        ]\n",
      " [0.         0.         0.         ... 0.         0.         0.        ]\n",
      " [0.         0.         0.         ... 0.         0.         0.        ]]\n",
      "[[0.96708298 5.27140903 7.87505758 ... 0.24150183 2.70666481 2.17034345]\n",
      " [3.62362957 6.56374764 3.43938351 ... 3.40995795 4.86079988 4.86138478]\n",
      " [5.40246252 6.29202032 3.77894606 ... 2.74440854 3.43715306 1.83134727]\n",
      " ...\n",
      " [4.6576225  2.27227356 3.07070698 ... 2.20595892 2.68819032 1.2995577 ]\n",
      " [3.27772901 4.57496818 0.90393459 ... 2.54771358 3.45538412 3.83297343]\n",
      " [4.14244946 2.98185881 4.41109631 ... 4.95431545 1.74727417 2.01684431]]\n",
      "[[0 5 7 ... 0 2 2]\n",
      " [3 6 3 ... 3 4 4]\n",
      " [5 6 3 ... 2 3 1]\n",
      " ...\n",
      " [4 2 3 ... 2 2 1]\n",
      " [3 4 0 ... 2 3 3]\n",
      " [4 2 4 ... 4 1 2]]\n",
      "[[0 5 7 ... 0 2 2]\n",
      " [3 6 3 ... 3 4 4]\n",
      " [5 6 3 ... 2 3 1]\n",
      " ...\n",
      " [4 2 3 ... 2 2 1]\n",
      " [3 4 0 ... 2 3 3]\n",
      " [4 2 4 ... 4 1 2]]\n"
     ]
    },
    {
     "data": {
      "image/png": "[encoded data removed]",
      "text/plain": [
       "<Figure size 432x288 with 2 Axes>"
      ]
     },
     "metadata": {},
     "output_type": "display_data"
    }
   ],
   "source": [
    "fig, ax = plt.subplots(nrows=1, ncols=1)\n",
    "# pdb.set_trace()\n",
    "base_img = np.zeros((num_pixels, num_pixels,4), dtype=np.uint8) # Should be black, 101x101 pixel\n",
    "surface = cairo.ImageSurface.create_for_data(\n",
    "    base_img, cairo.FORMAT_ARGB32, num_pixels, num_pixels)\n",
    "cr = cairo.Context(surface)\n",
    "cr.set_source_rgb(1.0,1.0,1.0)\n",
    "cr.paint()\n",
    "# pdb.set_trace()\n",
    "cr.arc(5, 5, 5, 0, 2*math.pi)\n",
    "cr.set_source_rgb(0.0,0.0,0.0)\n",
    "cr.stroke_preserve()\n",
    "cr.fill()\n",
    "# pdb.set_trace()\n",
    "# plt.imshow(base_img[:,:,0],cmap='gray')\n",
    "circ_img = base_img[:,:,0]\n",
    "circ_img = (1 - (circ_img/circ_img.max())) * 3.0 # Convert to 3 bits\n",
    "print(circ_img)\n",
    "# pdb.set_trace()\n",
    "adu = add_noise(circ_img)\n",
    "img = ax.imshow(adu,cmap='gray')\n",
    "cb  = plt.colorbar(img)\n",
    "cb.set_label('ADU')"
   ]
  },
  {
   "cell_type": "code",
   "execution_count": null,
   "metadata": {},
   "outputs": [],
   "source": [
    "def __init__():\n",
    "    img.set_data(np.zeros((num_pixels,num_pixels)))\n",
    "    return img"
   ]
  },
  {
   "cell_type": "code",
   "execution_count": null,
   "metadata": {},
   "outputs": [],
   "source": [
    "def animate(frame):\n",
    "    "
   ]
  }
 ],
 "metadata": {
  "kernelspec": {
   "display_name": "Python 3",
   "language": "python",
   "name": "python3"
  },
  "language_info": {
   "codemirror_mode": {
    "name": "ipython",
    "version": 3
   },
   "file_extension": ".py",
   "mimetype": "text/x-python",
   "name": "python",
   "nbconvert_exporter": "python",
   "pygments_lexer": "ipython3",
   "version": "3.5.2"
  }
 },
 "nbformat": 4,
 "nbformat_minor": 2
}
